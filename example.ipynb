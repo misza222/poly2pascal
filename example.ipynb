{
 "cells": [
  {
   "cell_type": "code",
   "execution_count": null,
   "metadata": {},
   "outputs": [],
   "source": [
    "from src.data_loader import CSVLoader\n",
    "from src import xml_formatter as xmlf"
   ]
  }
 ],
 "metadata": {
  "kernelspec": {
   "display_name": "Python 3.9.12 ('base')",
   "language": "python",
   "name": "python3"
  },
  "language_info": {
   "name": "python",
   "version": "3.9.12"
  },
  "orig_nbformat": 4,
  "vscode": {
   "interpreter": {
    "hash": "e2af3b8a9714b5396bfa70034f7976d07b91000518cbac1e88019645944f4bcb"
   }
  }
 },
 "nbformat": 4,
 "nbformat_minor": 2
}
