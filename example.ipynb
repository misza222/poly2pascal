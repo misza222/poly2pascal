{
 "cells": [
  {
   "cell_type": "code",
   "execution_count": 1,
   "metadata": {},
   "outputs": [],
   "source": [
    "from poly2pascal.annotations import XMLAnnotator\n",
    "from poly2pascal.data_loader import CSVLoader"
   ]
  },
  {
   "cell_type": "code",
   "execution_count": 2,
   "metadata": {},
   "outputs": [],
   "source": [
    "IMAGES_PATH = \"../../../Desktop/test-data/images\"\n",
    "XML_OUTPUT_PATH = IMAGES_PATH\n",
    "CSV_PATH = \"../../../Desktop/test-data/images_bboxes.csv\""
   ]
  },
  {
   "cell_type": "code",
   "execution_count": 4,
   "metadata": {},
   "outputs": [],
   "source": [
    "xmla = XMLAnnotator(\n",
    "    images_path=IMAGES_PATH, \n",
    "    csv_file_path=CSV_PATH, \n",
    "    image_name_col=\"image_id\",\n",
    "    image_label_col=\"worm_type\", \n",
    "    xml_output_path = XML_OUTPUT_PATH,\n",
    "    geometry_col=\"geometry\", \n",
    "    xml_end_content=\"\\n</annotation>\"\n",
    ")"
   ]
  },
  {
   "cell_type": "code",
   "execution_count": 6,
   "metadata": {},
   "outputs": [],
   "source": [
    "# image_name = \"id_00adaccff7693b67eeb8fdc7.jpg\"\n",
    "# print(xmla._get_image_xml_annotaion(image_name))\n",
    "# xmla._write_to_xml_file(image_name, xml_content)"
   ]
  },
  {
   "cell_type": "code",
   "execution_count": 8,
   "metadata": {},
   "outputs": [
    {
     "name": "stdout",
     "output_type": "stream",
     "text": [
      "CPU times: total: 29.5 s\n",
      "Wall time: 33.4 s\n"
     ]
    }
   ],
   "source": [
    "%%time\n",
    "xmla.get_all_xml_annotations(img_format=\".jpg\")"
   ]
  },
  {
   "cell_type": "code",
   "execution_count": null,
   "metadata": {},
   "outputs": [
    {
     "data": {
      "text/html": [
       "<div>\n",
       "<style scoped>\n",
       "    .dataframe tbody tr th:only-of-type {\n",
       "        vertical-align: middle;\n",
       "    }\n",
       "\n",
       "    .dataframe tbody tr th {\n",
       "        vertical-align: top;\n",
       "    }\n",
       "\n",
       "    .dataframe thead th {\n",
       "        text-align: right;\n",
       "    }\n",
       "</style>\n",
       "<table border=\"1\" class=\"dataframe\">\n",
       "  <thead>\n",
       "    <tr style=\"text-align: right;\">\n",
       "      <th></th>\n",
       "      <th>image_id</th>\n",
       "      <th>worm_type</th>\n",
       "      <th>geometry</th>\n",
       "    </tr>\n",
       "  </thead>\n",
       "  <tbody>\n",
       "    <tr>\n",
       "      <th>0</th>\n",
       "      <td>id_8ada71185e18dc8838b4925b.jpg</td>\n",
       "      <td>pbw</td>\n",
       "      <td>POLYGON ((2478.890 156.770, 2478.890 297.860, ...</td>\n",
       "    </tr>\n",
       "    <tr>\n",
       "      <th>1</th>\n",
       "      <td>id_8ada71185e18dc8838b4925b.jpg</td>\n",
       "      <td>pbw</td>\n",
       "      <td>POLYGON ((939.820 1221.460, 939.820 1319.680, ...</td>\n",
       "    </tr>\n",
       "    <tr>\n",
       "      <th>2</th>\n",
       "      <td>id_8ada71185e18dc8838b4925b.jpg</td>\n",
       "      <td>abw</td>\n",
       "      <td>POLYGON ((1559.700 1558.060, 1559.700 1966.300...</td>\n",
       "    </tr>\n",
       "    <tr>\n",
       "      <th>3</th>\n",
       "      <td>id_bc86d3cfd0c0463fa5cae33e.jpg</td>\n",
       "      <td>abw</td>\n",
       "      <td>POLYGON ((2090.216 1537.210, 2090.216 1799.815...</td>\n",
       "    </tr>\n",
       "    <tr>\n",
       "      <th>4</th>\n",
       "      <td>id_bc86d3cfd0c0463fa5cae33e.jpg</td>\n",
       "      <td>abw</td>\n",
       "      <td>POLYGON ((2342.257 1676.304, 2342.257 1952.270...</td>\n",
       "    </tr>\n",
       "  </tbody>\n",
       "</table>\n",
       "</div>"
      ],
      "text/plain": [
       "                          image_id worm_type  \\\n",
       "0  id_8ada71185e18dc8838b4925b.jpg       pbw   \n",
       "1  id_8ada71185e18dc8838b4925b.jpg       pbw   \n",
       "2  id_8ada71185e18dc8838b4925b.jpg       abw   \n",
       "3  id_bc86d3cfd0c0463fa5cae33e.jpg       abw   \n",
       "4  id_bc86d3cfd0c0463fa5cae33e.jpg       abw   \n",
       "\n",
       "                                            geometry  \n",
       "0  POLYGON ((2478.890 156.770, 2478.890 297.860, ...  \n",
       "1  POLYGON ((939.820 1221.460, 939.820 1319.680, ...  \n",
       "2  POLYGON ((1559.700 1558.060, 1559.700 1966.300...  \n",
       "3  POLYGON ((2090.216 1537.210, 2090.216 1799.815...  \n",
       "4  POLYGON ((2342.257 1676.304, 2342.257 1952.270...  "
      ]
     },
     "metadata": {},
     "output_type": "display_data"
    }
   ],
   "source": [
    "CSVLoader(\n",
    "    csv_file_path=CSV_PATH, \n",
    "    geometry_col=\"geometry\"\n",
    ").load_data().head()"
   ]
  }
 ],
 "metadata": {
  "kernelspec": {
   "display_name": "Python 3.8.13 ('poly2pascal')",
   "language": "python",
   "name": "python3"
  },
  "language_info": {
   "codemirror_mode": {
    "name": "ipython",
    "version": 3
   },
   "file_extension": ".py",
   "mimetype": "text/x-python",
   "name": "python",
   "nbconvert_exporter": "python",
   "pygments_lexer": "ipython3",
   "version": "3.8.13"
  },
  "orig_nbformat": 4,
  "vscode": {
   "interpreter": {
    "hash": "35f27b6397496c7bcab43a0ca5da6ffaf92e1a51491fc59138c301f28dc982f4"
   }
  }
 },
 "nbformat": 4,
 "nbformat_minor": 2
}
